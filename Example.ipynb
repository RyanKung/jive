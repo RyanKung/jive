{
 "cells": [
  {
   "cell_type": "markdown",
   "metadata": {},
   "source": [
    "### Import overtone"
   ]
  },
  {
   "cell_type": "code",
   "execution_count": 23,
   "metadata": {},
   "outputs": [],
   "source": [
    "(require 'overtone.live)\n",
    "(require '[clojure.math.numeric-tower :as math])"
   ]
  },
  {
   "cell_type": "markdown",
   "metadata": {},
   "source": [
    "### Define Equal Temperament"
   ]
  },
  {
   "cell_type": "code",
   "execution_count": 25,
   "metadata": {},
   "outputs": [
    {
     "data": {
      "text/plain": [
       "#'user/bA"
      ]
     },
     "execution_count": 25,
     "metadata": {},
     "output_type": "execute_result"
    }
   ],
   "source": [
    "(defn equal-temperament [n]\n",
    "  (math/expt 2 (/ n 12))\n",
    "  )\n",
    "\n",
    "(def A (equal-temperament 0))\n",
    "(def bB (equal-temperament 1))\n",
    "(def B (equal-temperament 2))\n",
    "(def C (equal-temperament 3))\n",
    "(def bD (equal-temperament 4))\n",
    "(def D (equal-temperament 5))\n",
    "(def bE (equal-temperament 6))\n",
    "(def E (equal-temperament 7))\n",
    "(def F (equal-temperament 8))\n",
    "(def bG (equal-temperament 9))\n",
    "(def G (equal-temperament 10))\n",
    "(def bA (equal-temperament 11))"
   ]
  },
  {
   "cell_type": "markdown",
   "metadata": {},
   "source": [
    "### Set Stdard A with 440khz"
   ]
  },
  {
   "cell_type": "code",
   "execution_count": 26,
   "metadata": {},
   "outputs": [
    {
     "data": {
      "text/plain": [
       "#'user/stdA"
      ]
     },
     "execution_count": 26,
     "metadata": {},
     "output_type": "execute_result"
    }
   ],
   "source": [
    "(def stdA 440)\n"
   ]
  },
  {
   "cell_type": "markdown",
   "metadata": {},
   "source": [
    "### Play Some music"
   ]
  },
  {
   "cell_type": "code",
   "execution_count": 32,
   "metadata": {},
   "outputs": [
    {
     "data": {
      "text/plain": [
       "#<synth-node[loading]: user/audition-synth 91>"
      ]
     },
     "execution_count": 32,
     "metadata": {},
     "output_type": "execute_result"
    }
   ],
   "source": [
    "(demo 0.25 (sin-osc (* stdA E)))\n",
    "(Thread/sleep 250)\n",
    "(demo 0.125 (sin-osc (* stdA D)))\n",
    "(Thread/sleep 125)\n",
    "(demo 0.25 (sin-osc (* stdA C)))\n",
    "(Thread/sleep 250)\n",
    "(demo 0.125 (sin-osc (* stdA D)))\n",
    "(Thread/sleep 125)\n",
    "(demo 0.25 (sin-osc (* stdA E)))\n",
    "(Thread/sleep 250)\n",
    "(demo 0.25 (sin-osc (* stdA F)))\n",
    "(Thread/sleep 125)\n",
    "(demo 0.5 (sin-osc (* stdA G)))\n"
   ]
  },
  {
   "cell_type": "code",
   "execution_count": null,
   "metadata": {},
   "outputs": [],
   "source": []
  }
 ],
 "metadata": {
  "kernelspec": {
   "display_name": "Lein-Clojure",
   "language": "clojure",
   "name": "lein-clojure"
  },
  "language_info": {
   "file_extension": ".clj",
   "mimetype": "text/x-clojure",
   "name": "clojure",
   "version": "1.8.0"
  }
 },
 "nbformat": 4,
 "nbformat_minor": 2
}
